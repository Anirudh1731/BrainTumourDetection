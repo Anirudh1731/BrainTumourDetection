{
 "cells": [
  {
   "cell_type": "code",
   "execution_count": 53,
   "metadata": {},
   "outputs": [],
   "source": [
    "import numpy as np\n",
    "import matplotlib.pyplot as plt\n",
    "import os\n",
    "import math\n",
    "import shutil\n",
    "import glob\n",
    "import sklearn\n",
    "from tensorflow import keras\n",
    "import cv2\n",
    "from keras.applications.vgg16 import VGG16"
   ]
  },
  {
   "cell_type": "code",
   "execution_count": 34,
   "metadata": {},
   "outputs": [
    {
     "name": "stdout",
     "output_type": "stream",
     "text": [
      "['no', 'yes']\n"
     ]
    }
   ],
   "source": [
    "root_dir=\"C:/Users/Anirudh/OneDrive/Desktop/Dataset\"\n",
    "number_of_images={}\n",
    "print(os.listdir(root_dir))"
   ]
  },
  {
   "cell_type": "code",
   "execution_count": 35,
   "metadata": {},
   "outputs": [
    {
     "name": "stdout",
     "output_type": "stream",
     "text": [
      "dict_items([('no', 98), ('yes', 155)])\n"
     ]
    }
   ],
   "source": [
    "for dir in os.listdir(root_dir):\n",
    "    number_of_images[dir]=len(os.listdir(os.path.join(root_dir,dir)))\n",
    "print(number_of_images.items())"
   ]
  },
  {
   "cell_type": "code",
   "execution_count": 4,
   "metadata": {},
   "outputs": [],
   "source": [
    "os.mkdir(\"./train\")\n",
    "for dir in os.listdir(root_dir):\n",
    "    os.makedirs(\"./train/\"+dir)"
   ]
  },
  {
   "cell_type": "code",
   "execution_count": 24,
   "metadata": {},
   "outputs": [],
   "source": [
    "def dir(filepath):\n",
    "    os.mkdir(filepath)\n",
    "    for dir in os.listdir(root_dir):\n",
    "        os.makedirs(filepath+dir)"
   ]
  },
  {
   "cell_type": "code",
   "execution_count": 25,
   "metadata": {},
   "outputs": [],
   "source": [
    "dir(\"./val/\")"
   ]
  },
  {
   "cell_type": "code",
   "execution_count": 3,
   "metadata": {},
   "outputs": [],
   "source": [
    "X=os.listdir(\"C:/Users/Anirudh/OneDrive/Desktop/Dataset/yes\")\n",
    "\n",
    "from sklearn.model_selection import train_test_split\n",
    "X_train, X_test = train_test_split(\n",
    " X, test_size=0.33, random_state=42) \n",
    "\n",
    " \n",
    "\n"
   ]
  },
  {
   "cell_type": "code",
   "execution_count": 38,
   "metadata": {},
   "outputs": [
    {
     "name": "stdout",
     "output_type": "stream",
     "text": [
      "['Y89.JPG', 'Y165.JPG', 'Y102.jpg', 'Y157.JPG', 'Y75.JPG', 'Y86.JPG', 'Y23.JPG', 'Y114.JPG', 'Y61.jpg', 'Y108.jpg', 'Y51.jpg', 'Y90.jpg', 'Y38.jpg', 'Y1.jpg', 'Y47.JPG', 'Y20.jpg', 'Y168.jpg', 'Y34.jpg', 'Y153.jpg', 'Y164.JPG', 'Y40.JPG', 'Y147.JPG', 'Y14.jpg', 'Y45.JPG', 'Y163.JPG', 'Y96.jpg', 'Y35.jpg', 'Y95.jpg', 'Y77.jpg', 'Y170.JPG', 'Y49.JPG', 'Y194.jpg', 'Y246.JPG', 'Y158.JPG', 'Y92.jpg', 'Y65.JPG', 'Y195.JPG', 'Y41.jpg', 'Y31.jpg', 'Y184.JPG', 'Y103.jpg', 'Y67.JPG', 'Y52.jpg', 'Y180.jpg', 'Y16.JPG', 'Y252.jpg', 'Y25.jpg', 'Y159.JPG', 'Y17.jpg', 'Y105.jpg', 'Y167.JPG', 'Y243.JPG', 'Y50.JPG', 'Y29.jpg', 'Y255.JPG', 'Y8.jpg', 'Y81.jpg', 'Y27.jpg', 'Y106.jpg', 'Y111.JPG', 'Y192.JPG', 'Y73.jpg', 'Y101.jpg', 'Y115.JPG', 'Y162.jpg', 'Y245.jpg', 'Y76.jpg', 'Y104.jpg', 'Y69.jpg', 'Y37.jpg', 'Y100.JPG', 'Y59.JPG', 'Y2.jpg', 'Y53.jpg', 'Y185.jpg', 'Y44.JPG', 'Y181.jpg', 'Y97.JPG', 'Y19.JPG', 'Y18.JPG', 'Y26.jpg', 'Y120.JPG', 'Y188.jpg', 'Y92.png', 'Y7.jpg', 'Y161.JPG', 'Y9.jpg', 'Y10.jpg', 'Y183.jpg', 'Y70.jpg', 'Y4.jpg', 'Y36.JPG', 'Y54.jpg', 'Y259.JPG', 'Y247.JPG', 'Y6.jpg', 'Y99.JPG', 'Y12.jpg', 'Y244.JPG', 'Y42.jpg', 'Y112.JPG', 'Y3.jpg', 'Y39.jpg']\n"
     ]
    }
   ],
   "source": [
    "print(X_train)"
   ]
  },
  {
   "cell_type": "code",
   "execution_count": 5,
   "metadata": {},
   "outputs": [],
   "source": [
    "Y=os.listdir(\"C:/Users/Anirudh/OneDrive/Desktop/Dataset/no\")\n",
    "from sklearn.model_selection import train_test_split\n",
    "Y_train, Y_test = train_test_split(\n",
    " Y, test_size=0.33, random_state=42)"
   ]
  },
  {
   "cell_type": "code",
   "execution_count": 6,
   "metadata": {},
   "outputs": [
    {
     "name": "stdout",
     "output_type": "stream",
     "text": [
      "['No13.jpg', '14 no.jpg', '6 no.jpg', 'no 5.jpeg', '42 no.jpg', '25 no.jpg', 'no 8.jpg', '41 no.jpg', '17 no.jpg', 'N2.JPG', '35 no.jpg', '28 no.jpg', 'no 94.jpg', '33 no.jpg', 'N17.jpg', '22 no.jpg', '32 no.jpg', '12 no.jpg', '26 no.jpg', '45 no.jpg', '18 no.jpg', 'no 91.jpeg', '15 no.jpg', 'no 923.jpg', '43 no.jpg', 'no.jpg', 'N20.JPG', 'No22.jpg', 'N19.JPG', '5 no.jpg', 'N11.jpg', 'no 2.jpg', '7 no.jpg', 'no 3.jpg', 'N5.jpg', 'No20.jpg', 'no 92.jpg', '48 no.jpeg', 'N22.JPG', '9 no.jpg', 'no 99.jpg', 'N21.jpg', '4 no.jpg', 'No21.jpg', 'N26.JPG', 'no 1.jpg', 'No16.jpg', '44no.jpg', '37 no.jpg', '10 no.jpg', 'N16.jpg', '3 no.jpg', '11 no.jpg', '31 no.jpg', 'No12.jpg', 'No14.jpg', 'no 9.png', 'No11.jpg', 'no 97.jpg', '29 no.jpg', 'N3.jpg', 'no 7.jpeg', '23 no.jpg', 'No17.jpg', 'N15.jpg']\n"
     ]
    }
   ],
   "source": [
    "print(Y_train)"
   ]
  },
  {
   "cell_type": "code",
   "execution_count": 42,
   "metadata": {},
   "outputs": [],
   "source": [
    "root_yes=\"C:/Users/Anirudh/OneDrive/Desktop/Neural Network from Scratch/Scripts/train/yes\"\n",
    "for k in X_train:\n",
    "    cv2.imwrite(os.path.join(root_yes,k),cv2.imread(os.path.join(\"C:/Users/Anirudh/OneDrive/Desktop/Dataset/yes\",k)))\n",
    "    "
   ]
  },
  {
   "cell_type": "code",
   "execution_count": 28,
   "metadata": {},
   "outputs": [],
   "source": [
    "root_yes=\"C:/Users/Anirudh/OneDrive/Desktop/Neural Network from Scratch/Scripts/val/yes\"\n",
    "for k in X_test:\n",
    "    cv2.imwrite(os.path.join(root_yes,k),cv2.imread(os.path.join(\"C:/Users/Anirudh/OneDrive/Desktop/Dataset/yes\",k)))"
   ]
  },
  {
   "cell_type": "code",
   "execution_count": 43,
   "metadata": {},
   "outputs": [],
   "source": [
    "root_no=\"C:/Users/Anirudh/OneDrive/Desktop/Neural Network from Scratch/Scripts/train/no\"\n",
    "for i in Y_train:\n",
    "    cv2.imwrite(os.path.join(root_no,i),cv2.imread(os.path.join(\"C:/Users/Anirudh/OneDrive/Desktop/Dataset/no\",i)))"
   ]
  },
  {
   "cell_type": "code",
   "execution_count": 31,
   "metadata": {},
   "outputs": [],
   "source": [
    "root_no=\"C:/Users/Anirudh/OneDrive/Desktop/Neural Network from Scratch/Scripts/val/no\"\n",
    "for i in Y_test:\n",
    "    cv2.imwrite(os.path.join(root_no,i),cv2.imread(os.path.join(\"C:/Users/Anirudh/OneDrive/Desktop/Dataset/no\",i)))"
   ]
  },
  {
   "cell_type": "code",
   "execution_count": 7,
   "metadata": {},
   "outputs": [],
   "source": [
    "from keras.layers import Conv2D , MaxPooling2D, Dropout,Flatten,Dense\n",
    "from keras.models import Sequential\n",
    "import keras\n"
   ]
  },
  {
   "cell_type": "code",
   "execution_count": 37,
   "metadata": {},
   "outputs": [
    {
     "name": "stdout",
     "output_type": "stream",
     "text": [
      "Model: \"sequential_3\"\n",
      "_________________________________________________________________\n",
      " Layer (type)                Output Shape              Param #   \n",
      "=================================================================\n",
      " conv2d_12 (Conv2D)          (None, 226, 226, 16)      448       \n",
      "                                                                 \n",
      " conv2d_13 (Conv2D)          (None, 224, 224, 36)      5220      \n",
      "                                                                 \n",
      " max_pooling2d_9 (MaxPooling  (None, 112, 112, 36)     0         \n",
      " 2D)                                                             \n",
      "                                                                 \n",
      " conv2d_14 (Conv2D)          (None, 110, 110, 64)      20800     \n",
      "                                                                 \n",
      " max_pooling2d_10 (MaxPoolin  (None, 55, 55, 64)       0         \n",
      " g2D)                                                            \n",
      "                                                                 \n",
      " conv2d_15 (Conv2D)          (None, 53, 53, 128)       73856     \n",
      "                                                                 \n",
      " max_pooling2d_11 (MaxPoolin  (None, 26, 26, 128)      0         \n",
      " g2D)                                                            \n",
      "                                                                 \n",
      " dropout_6 (Dropout)         (None, 26, 26, 128)       0         \n",
      "                                                                 \n",
      " flatten_3 (Flatten)         (None, 86528)             0         \n",
      "                                                                 \n",
      " dense_6 (Dense)             (None, 64)                5537856   \n",
      "                                                                 \n",
      " dropout_7 (Dropout)         (None, 64)                0         \n",
      "                                                                 \n",
      " dense_7 (Dense)             (None, 1)                 65        \n",
      "                                                                 \n",
      "=================================================================\n",
      "Total params: 5,638,245\n",
      "Trainable params: 5,638,245\n",
      "Non-trainable params: 0\n",
      "_________________________________________________________________\n"
     ]
    }
   ],
   "source": [
    "model=Sequential()\n",
    "model.add(Conv2D(filters=16, kernel_size=(3,3),activation='relu',input_shape=(228,228,3)))\n",
    "model.add(Conv2D(filters=36, kernel_size=(3,3),activation='relu'))\n",
    "model.add(MaxPooling2D(pool_size=(2,2)))\n",
    "\n",
    "model.add(Conv2D(filters=64, kernel_size=(3,3),activation='relu'))\n",
    "model.add(MaxPooling2D(pool_size=(2,2)))\n",
    "\n",
    "model.add(Conv2D(filters=128, kernel_size=(3,3),activation='relu'))\n",
    "model.add(MaxPooling2D(pool_size=(2,2)))\n",
    "\n",
    "model.add(Dropout(rate=0.25))\n",
    "\n",
    "model.add(Flatten())\n",
    "model.add(Dense(units=64,activation='relu'))\n",
    "model.add(Dropout(rate=0.25))\n",
    "model.add(Dense(units=1,activation='sigmoid'))\n",
    "\n",
    "\n",
    "\n",
    "\n",
    "model.summary()\n"
   ]
  },
  {
   "cell_type": "code",
   "execution_count": 10,
   "metadata": {},
   "outputs": [
    {
     "name": "stdout",
     "output_type": "stream",
     "text": [
      "Model: \"model_1\"\n",
      "_________________________________________________________________\n",
      " Layer (type)                Output Shape              Param #   \n",
      "=================================================================\n",
      " input_2 (InputLayer)        [(None, 224, 224, 3)]     0         \n",
      "                                                                 \n",
      " block1_conv1 (Conv2D)       (None, 224, 224, 64)      1792      \n",
      "                                                                 \n",
      " block1_conv2 (Conv2D)       (None, 224, 224, 64)      36928     \n",
      "                                                                 \n",
      " block1_pool (MaxPooling2D)  (None, 112, 112, 64)      0         \n",
      "                                                                 \n",
      " block2_conv1 (Conv2D)       (None, 112, 112, 128)     73856     \n",
      "                                                                 \n",
      " block2_conv2 (Conv2D)       (None, 112, 112, 128)     147584    \n",
      "                                                                 \n",
      " block2_pool (MaxPooling2D)  (None, 56, 56, 128)       0         \n",
      "                                                                 \n",
      " block3_conv1 (Conv2D)       (None, 56, 56, 256)       295168    \n",
      "                                                                 \n",
      " block3_conv2 (Conv2D)       (None, 56, 56, 256)       590080    \n",
      "                                                                 \n",
      " block3_conv3 (Conv2D)       (None, 56, 56, 256)       590080    \n",
      "                                                                 \n",
      " block3_pool (MaxPooling2D)  (None, 28, 28, 256)       0         \n",
      "                                                                 \n",
      " block4_conv1 (Conv2D)       (None, 28, 28, 512)       1180160   \n",
      "                                                                 \n",
      " block4_conv2 (Conv2D)       (None, 28, 28, 512)       2359808   \n",
      "                                                                 \n",
      " block4_conv3 (Conv2D)       (None, 28, 28, 512)       2359808   \n",
      "                                                                 \n",
      " block4_pool (MaxPooling2D)  (None, 14, 14, 512)       0         \n",
      "                                                                 \n",
      " block5_conv1 (Conv2D)       (None, 14, 14, 512)       2359808   \n",
      "                                                                 \n",
      " block5_conv2 (Conv2D)       (None, 14, 14, 512)       2359808   \n",
      "                                                                 \n",
      " block5_conv3 (Conv2D)       (None, 14, 14, 512)       2359808   \n",
      "                                                                 \n",
      " block5_pool (MaxPooling2D)  (None, 7, 7, 512)         0         \n",
      "                                                                 \n",
      " flatten_1 (Flatten)         (None, 25088)             0         \n",
      "                                                                 \n",
      " dense_2 (Dense)             (None, 64)                1605696   \n",
      "                                                                 \n",
      " dense_3 (Dense)             (None, 2)                 130       \n",
      "                                                                 \n",
      "=================================================================\n",
      "Total params: 16,320,514\n",
      "Trainable params: 1,605,826\n",
      "Non-trainable params: 14,714,688\n",
      "_________________________________________________________________\n"
     ]
    }
   ],
   "source": [
    "#vgg\n",
    "input_shape = [224,224]\n",
    "vgg = VGG16(input_shape = input_shape + [3], weights='imagenet', include_top=False)\n",
    "for layer in vgg.layers:\n",
    "  layer.trainable = False\n",
    "\n",
    "x = Flatten()(vgg.output)\n",
    "x = Dense(64, activation='relu')(x)\n",
    "x = Dense(2, activation = 'softmax')(x)\n",
    "model = keras.Model(inputs=vgg.input, outputs=x)\n",
    "\n",
    "model.compile(\n",
    "    loss='categorical_crossentropy',\n",
    "    optimizer='adam',\n",
    "    metrics=['acc']\n",
    ")\n",
    "model.summary()"
   ]
  },
  {
   "cell_type": "code",
   "execution_count": 11,
   "metadata": {},
   "outputs": [],
   "source": [
    "#vgg\n",
    "input_shape = [224,224]\n",
    "vgg = VGG16(input_shape = input_shape + [3], weights='imagenet', include_top=False)\n",
    "for layer in vgg.layers:\n",
    "  layer.trainable = False\n",
    "\n",
    "x = Flatten()(vgg.output)\n",
    "x = Dense(64, activation='relu')(x)\n",
    "x = Dense(1, activation = 'sigmoid')(x)\n",
    "model = keras.Model(inputs=vgg.input, outputs=x)\n",
    "\n",
    "model.compile(\n",
    "    loss='binary_crossentropy',\n",
    "    optimizer='adam',\n",
    "    metrics=['acc']\n",
    ")"
   ]
  },
  {
   "cell_type": "code",
   "execution_count": 12,
   "metadata": {},
   "outputs": [],
   "source": [
    "from keras_preprocessing.image import ImageDataGenerator,load_img,img_to_array"
   ]
  },
  {
   "cell_type": "code",
   "execution_count": 14,
   "metadata": {},
   "outputs": [],
   "source": [
    "def preprocessing(path):\n",
    "    img_data=ImageDataGenerator(zoom_range=0.2,shear_range=0.2,rescale=1/255,horizontal_flip=True)\n",
    "    image=img_data.flow_from_directory(directory=path,target_size=(224,224),batch_size=32,class_mode='binary')\n",
    "    return image\n",
    "    "
   ]
  },
  {
   "cell_type": "code",
   "execution_count": 15,
   "metadata": {},
   "outputs": [
    {
     "name": "stdout",
     "output_type": "stream",
     "text": [
      "Found 168 images belonging to 2 classes.\n",
      "Found 85 images belonging to 2 classes.\n"
     ]
    }
   ],
   "source": [
    "path=\"C:/Users/Anirudh/OneDrive/Desktop/Neural Network from Scratch/Scripts/train\"\n",
    "val_path=\"C:/Users/Anirudh/OneDrive/Desktop/Neural Network from Scratch/Scripts/val\"\n",
    "train_data=preprocessing(path)\n",
    "validation_data=preprocessing(val_path)\n"
   ]
  },
  {
   "cell_type": "code",
   "execution_count": 8,
   "metadata": {},
   "outputs": [
    {
     "name": "stdout",
     "output_type": "stream",
     "text": [
      "{'no': 0, 'yes': 1}\n"
     ]
    }
   ],
   "source": [
    "print(train_data.class_indices)"
   ]
  },
  {
   "cell_type": "code",
   "execution_count": 16,
   "metadata": {},
   "outputs": [
    {
     "name": "stderr",
     "output_type": "stream",
     "text": [
      "C:\\Users\\Anirudh\\AppData\\Local\\Temp\\ipykernel_38208\\697272116.py:1: UserWarning: `Model.fit_generator` is deprecated and will be removed in a future version. Please use `Model.fit`, which supports generators.\n",
      "  history=model.fit_generator(\n"
     ]
    },
    {
     "name": "stdout",
     "output_type": "stream",
     "text": [
      "Epoch 1/10\n",
      "6/6 [==============================] - 25s 4s/step - loss: 2.0746 - acc: 0.4821 - val_loss: 0.5800 - val_acc: 0.6824\n",
      "Epoch 2/10\n",
      "6/6 [==============================] - 23s 4s/step - loss: 0.8857 - acc: 0.6250 - val_loss: 0.5033 - val_acc: 0.7647\n",
      "Epoch 3/10\n",
      "6/6 [==============================] - 22s 4s/step - loss: 0.5484 - acc: 0.6667 - val_loss: 0.5381 - val_acc: 0.7176\n",
      "Epoch 4/10\n",
      "6/6 [==============================] - 23s 4s/step - loss: 0.4901 - acc: 0.7857 - val_loss: 0.4355 - val_acc: 0.8000\n",
      "Epoch 5/10\n",
      "6/6 [==============================] - 23s 4s/step - loss: 0.4817 - acc: 0.7738 - val_loss: 0.4702 - val_acc: 0.7882\n",
      "Epoch 6/10\n",
      "6/6 [==============================] - 23s 4s/step - loss: 0.4532 - acc: 0.7976 - val_loss: 0.3905 - val_acc: 0.8471\n",
      "Epoch 7/10\n",
      "6/6 [==============================] - 23s 4s/step - loss: 0.3980 - acc: 0.7976 - val_loss: 0.4054 - val_acc: 0.8000\n",
      "Epoch 8/10\n",
      "6/6 [==============================] - 23s 4s/step - loss: 0.2863 - acc: 0.8750 - val_loss: 0.3729 - val_acc: 0.8588\n",
      "Epoch 9/10\n",
      "6/6 [==============================] - 23s 4s/step - loss: 0.2614 - acc: 0.8929 - val_loss: 0.3448 - val_acc: 0.8824\n",
      "Epoch 10/10\n",
      "6/6 [==============================] - 23s 4s/step - loss: 0.2246 - acc: 0.9345 - val_loss: 0.3835 - val_acc: 0.8235\n"
     ]
    }
   ],
   "source": [
    "history=model.fit_generator(\n",
    "  train_data,\n",
    "  epochs=10,\n",
    "  validation_data=validation_data\n",
    ")"
   ]
  },
  {
   "cell_type": "code",
   "execution_count": 46,
   "metadata": {},
   "outputs": [],
   "source": [
    "\n",
    "model.save_weights(\"model.h2\")\n",
    "path=\"C:/Users/Anirudh/OneDrive/Desktop/Neural Network from Scratch/Scripts/train/yes/Y243.JPG\"\n",
    "path2=\"C:/Users/Anirudh/OneDrive/Desktop/Neural Network from Scratch/Scripts/val/no/1 no.jpeg\"\n"
   ]
  },
  {
   "cell_type": "code",
   "execution_count": 55,
   "metadata": {},
   "outputs": [
    {
     "name": "stdout",
     "output_type": "stream",
     "text": [
      "The image belongs to [[1.]]th class\n"
     ]
    },
    {
     "data": {
      "image/png": "[encoded data removed]",
      "text/plain": [
       "<Figure size 432x288 with 1 Axes>"
      ]
     },
     "metadata": {
      "needs_background": "light"
     },
     "output_type": "display_data"
    }
   ],
   "source": [
    "# img=load_img(path)\n",
    "img=cv2.imread(path)\n",
    "plt.imshow(img)\n",
    "img=cv2.resize(img,(224,224))\n",
    "img=np.reshape(img,(1,224,224,3))\n",
    "# arr=img_to_array(img)\n",
    "# print(len(img[0][0][0]))\n",
    "# x=np.expand_dims(arr,axis=0)\n",
    "# x=np.reshape(x,(1,255,255,3))\n",
    "print(\"The image belongs to \"+str(model.predict(img))+\"th class\")\n",
    "# model.predict(img)\n"
   ]
  },
  {
   "cell_type": "code",
   "execution_count": 56,
   "metadata": {},
   "outputs": [
    {
     "ename": "ImportError",
     "evalue": "cannot import name 'plot_model' from 'keras.utils' (C:\\Python310\\lib\\site-packages\\keras\\utils\\__init__.py)",
     "output_type": "error",
     "traceback": [
      "\u001b[1;31m---------------------------------------------------------------------------\u001b[0m",
      "\u001b[1;31mImportError\u001b[0m                               Traceback (most recent call last)",
      "\u001b[1;32mc:\\Users\\Anirudh\\OneDrive\\Desktop\\Neural Network from Scratch\\Scripts\\Braintumour.ipynb Cell 26'\u001b[0m in \u001b[0;36m<cell line: 1>\u001b[1;34m()\u001b[0m\n\u001b[1;32m----> <a href='vscode-notebook-cell:/c%3A/Users/Anirudh/OneDrive/Desktop/Neural%20Network%20from%20Scratch/Scripts/Braintumour.ipynb#ch0000029?line=0'>1</a>\u001b[0m \u001b[39mfrom\u001b[39;00m \u001b[39mkeras\u001b[39;00m\u001b[39m.\u001b[39;00m\u001b[39mutils\u001b[39;00m \u001b[39mimport\u001b[39;00m plot_model\n\u001b[0;32m      <a href='vscode-notebook-cell:/c%3A/Users/Anirudh/OneDrive/Desktop/Neural%20Network%20from%20Scratch/Scripts/Braintumour.ipynb#ch0000029?line=1'>2</a>\u001b[0m keras\u001b[39m.\u001b[39mutils\u001b[39m.\u001b[39mplot_model(model, \u001b[39m\"\u001b[39m\u001b[39mmy_first_model_with_shape_info.png\u001b[39m\u001b[39m\"\u001b[39m, show_shapes\u001b[39m=\u001b[39m\u001b[39mTrue\u001b[39;00m)\n",
      "\u001b[1;31mImportError\u001b[0m: cannot import name 'plot_model' from 'keras.utils' (C:\\Python310\\lib\\site-packages\\keras\\utils\\__init__.py)"
     ]
    }
   ],
   "source": [
    "\n",
    "import numpy as np\n",
    "import tensorflow as tf\n",
    "from tensorflow import keras\n",
    "from tensorflow.keras import layers\n",
    "\n",
    "keras.utils.plot_model(model, \"my_first_model_with_shape_info.png\", show_shapes=True)"
   ]
  },
  {
   "cell_type": "code",
   "execution_count": null,
   "metadata": {},
   "outputs": [
    {
     "data": {
      "text/plain": [
       "<matplotlib.legend.Legend at 0x160750581f0>"
      ]
     },
     "execution_count": 37,
     "metadata": {},
     "output_type": "execute_result"
    },
    {
     "data": {
      "image/png": "[encoded data removed]",
      "text/plain": [
       "<Figure size 432x288 with 1 Axes>"
      ]
     },
     "metadata": {
      "needs_background": "light"
     },
     "output_type": "display_data"
    }
   ],
   "source": [
    "plt.subplot(211)\n",
    "plt.title('Loss')\n",
    "plt.plot(history.history['loss'], label='train')\n",
    "plt.plot(history.history['val_loss'], label='test')\n",
    "plt.legend()\n",
    "# plot accuracy during training\n",
    "# plt.subplot(212)\n",
    "# plt.title('Accuracy')\n",
    "# plt.plot(history.history['accuracy'], label='train')\n",
    "# plt.plot(history.history['val_accuracy'], label='test')\n",
    "# plt.legend()\n",
    "# plt.show()"
   ]
  },
  {
   "cell_type": "code",
   "execution_count": null,
   "metadata": {},
   "outputs": [
    {
     "name": "stdout",
     "output_type": "stream",
     "text": [
      "WARNING:tensorflow:Model was constructed with shape (None, 224, 224, 3) for input KerasTensor(type_spec=TensorSpec(shape=(None, 224, 224, 3), dtype=tf.float32, name='input_6'), name='input_6', description=\"created by layer 'input_6'\"), but it was called on an input with incompatible shape (None,).\n"
     ]
    },
    {
     "ename": "ValueError",
     "evalue": "in user code:\n\n    File \"C:\\Python310\\lib\\site-packages\\keras\\engine\\training.py\", line 1801, in predict_function  *\n        return step_function(self, iterator)\n    File \"C:\\Python310\\lib\\site-packages\\keras\\engine\\training.py\", line 1790, in step_function  **\n        outputs = model.distribute_strategy.run(run_step, args=(data,))\n    File \"C:\\Python310\\lib\\site-packages\\keras\\engine\\training.py\", line 1783, in run_step  **\n        outputs = model.predict_step(data)\n    File \"C:\\Python310\\lib\\site-packages\\keras\\engine\\training.py\", line 1751, in predict_step\n        return self(x, training=False)\n    File \"C:\\Python310\\lib\\site-packages\\keras\\utils\\traceback_utils.py\", line 67, in error_handler\n        raise e.with_traceback(filtered_tb) from None\n    File \"C:\\Python310\\lib\\site-packages\\keras\\engine\\input_spec.py\", line 228, in assert_input_compatibility\n        raise ValueError(f'Input {input_index} of layer \"{layer_name}\" '\n\n    ValueError: Exception encountered when calling layer \"model_5\" (type Functional).\n    \n    Input 0 of layer \"block1_conv1\" is incompatible with the layer: expected min_ndim=4, found ndim=1. Full shape received: (None,)\n    \n    Call arguments received:\n      • inputs=tf.Tensor(shape=(None,), dtype=string)\n      • training=False\n      • mask=None\n",
     "output_type": "error",
     "traceback": [
      "\u001b[1;31m---------------------------------------------------------------------------\u001b[0m",
      "\u001b[1;31mValueError\u001b[0m                                Traceback (most recent call last)",
      "\u001b[1;32mc:\\Users\\Anirudh\\OneDrive\\Desktop\\Neural Network from Scratch\\Scripts\\Braintumour.ipynb Cell 27'\u001b[0m in \u001b[0;36m<cell line: 1>\u001b[1;34m()\u001b[0m\n\u001b[1;32m----> <a href='vscode-notebook-cell:/c%3A/Users/Anirudh/OneDrive/Desktop/Neural%20Network%20from%20Scratch/Scripts/Braintumour.ipynb#ch0000027?line=0'>1</a>\u001b[0m yhat_probs \u001b[39m=\u001b[39m model\u001b[39m.\u001b[39;49mpredict(X_test, verbose\u001b[39m=\u001b[39;49m\u001b[39m0\u001b[39;49m)\n\u001b[0;32m      <a href='vscode-notebook-cell:/c%3A/Users/Anirudh/OneDrive/Desktop/Neural%20Network%20from%20Scratch/Scripts/Braintumour.ipynb#ch0000027?line=1'>2</a>\u001b[0m yhat_classes \u001b[39m=\u001b[39m model\u001b[39m.\u001b[39mpredict_classes(X_test, verbose\u001b[39m=\u001b[39m\u001b[39m0\u001b[39m)\n\u001b[0;32m      <a href='vscode-notebook-cell:/c%3A/Users/Anirudh/OneDrive/Desktop/Neural%20Network%20from%20Scratch/Scripts/Braintumour.ipynb#ch0000027?line=2'>3</a>\u001b[0m yhat_probs \u001b[39m=\u001b[39m yhat_probs[:, \u001b[39m0\u001b[39m]\n",
      "File \u001b[1;32mC:\\Python310\\lib\\site-packages\\keras\\utils\\traceback_utils.py:67\u001b[0m, in \u001b[0;36mfilter_traceback.<locals>.error_handler\u001b[1;34m(*args, **kwargs)\u001b[0m\n\u001b[0;32m     <a href='file:///c%3A/Python310/lib/site-packages/keras/utils/traceback_utils.py?line=64'>65</a>\u001b[0m \u001b[39mexcept\u001b[39;00m \u001b[39mException\u001b[39;00m \u001b[39mas\u001b[39;00m e:  \u001b[39m# pylint: disable=broad-except\u001b[39;00m\n\u001b[0;32m     <a href='file:///c%3A/Python310/lib/site-packages/keras/utils/traceback_utils.py?line=65'>66</a>\u001b[0m   filtered_tb \u001b[39m=\u001b[39m _process_traceback_frames(e\u001b[39m.\u001b[39m__traceback__)\n\u001b[1;32m---> <a href='file:///c%3A/Python310/lib/site-packages/keras/utils/traceback_utils.py?line=66'>67</a>\u001b[0m   \u001b[39mraise\u001b[39;00m e\u001b[39m.\u001b[39mwith_traceback(filtered_tb) \u001b[39mfrom\u001b[39;00m \u001b[39mNone\u001b[39m\n\u001b[0;32m     <a href='file:///c%3A/Python310/lib/site-packages/keras/utils/traceback_utils.py?line=67'>68</a>\u001b[0m \u001b[39mfinally\u001b[39;00m:\n\u001b[0;32m     <a href='file:///c%3A/Python310/lib/site-packages/keras/utils/traceback_utils.py?line=68'>69</a>\u001b[0m   \u001b[39mdel\u001b[39;00m filtered_tb\n",
      "File \u001b[1;32m~\\AppData\\Roaming\\Python\\Python310\\site-packages\\tensorflow\\python\\framework\\func_graph.py:1147\u001b[0m, in \u001b[0;36mfunc_graph_from_py_func.<locals>.autograph_handler\u001b[1;34m(*args, **kwargs)\u001b[0m\n\u001b[0;32m   <a href='file:///c%3A/Users/Anirudh/AppData/Roaming/Python/Python310/site-packages/tensorflow/python/framework/func_graph.py?line=1144'>1145</a>\u001b[0m \u001b[39mexcept\u001b[39;00m \u001b[39mException\u001b[39;00m \u001b[39mas\u001b[39;00m e:  \u001b[39m# pylint:disable=broad-except\u001b[39;00m\n\u001b[0;32m   <a href='file:///c%3A/Users/Anirudh/AppData/Roaming/Python/Python310/site-packages/tensorflow/python/framework/func_graph.py?line=1145'>1146</a>\u001b[0m   \u001b[39mif\u001b[39;00m \u001b[39mhasattr\u001b[39m(e, \u001b[39m\"\u001b[39m\u001b[39mag_error_metadata\u001b[39m\u001b[39m\"\u001b[39m):\n\u001b[1;32m-> <a href='file:///c%3A/Users/Anirudh/AppData/Roaming/Python/Python310/site-packages/tensorflow/python/framework/func_graph.py?line=1146'>1147</a>\u001b[0m     \u001b[39mraise\u001b[39;00m e\u001b[39m.\u001b[39mag_error_metadata\u001b[39m.\u001b[39mto_exception(e)\n\u001b[0;32m   <a href='file:///c%3A/Users/Anirudh/AppData/Roaming/Python/Python310/site-packages/tensorflow/python/framework/func_graph.py?line=1147'>1148</a>\u001b[0m   \u001b[39melse\u001b[39;00m:\n\u001b[0;32m   <a href='file:///c%3A/Users/Anirudh/AppData/Roaming/Python/Python310/site-packages/tensorflow/python/framework/func_graph.py?line=1148'>1149</a>\u001b[0m     \u001b[39mraise\u001b[39;00m\n",
      "\u001b[1;31mValueError\u001b[0m: in user code:\n\n    File \"C:\\Python310\\lib\\site-packages\\keras\\engine\\training.py\", line 1801, in predict_function  *\n        return step_function(self, iterator)\n    File \"C:\\Python310\\lib\\site-packages\\keras\\engine\\training.py\", line 1790, in step_function  **\n        outputs = model.distribute_strategy.run(run_step, args=(data,))\n    File \"C:\\Python310\\lib\\site-packages\\keras\\engine\\training.py\", line 1783, in run_step  **\n        outputs = model.predict_step(data)\n    File \"C:\\Python310\\lib\\site-packages\\keras\\engine\\training.py\", line 1751, in predict_step\n        return self(x, training=False)\n    File \"C:\\Python310\\lib\\site-packages\\keras\\utils\\traceback_utils.py\", line 67, in error_handler\n        raise e.with_traceback(filtered_tb) from None\n    File \"C:\\Python310\\lib\\site-packages\\keras\\engine\\input_spec.py\", line 228, in assert_input_compatibility\n        raise ValueError(f'Input {input_index} of layer \"{layer_name}\" '\n\n    ValueError: Exception encountered when calling layer \"model_5\" (type Functional).\n    \n    Input 0 of layer \"block1_conv1\" is incompatible with the layer: expected min_ndim=4, found ndim=1. Full shape received: (None,)\n    \n    Call arguments received:\n      • inputs=tf.Tensor(shape=(None,), dtype=string)\n      • training=False\n      • mask=None\n"
     ]
    }
   ],
   "source": [
    "\n",
    "yhat_probs = model.predict(X_test, verbose=0)\n",
    "yhat_classes = model.predict_classes(X_test, verbose=0)\n",
    "yhat_probs = yhat_probs[:, 0]\n",
    "yhat_classes = yhat_classes[:, 0]"
   ]
  }
 ],
 "metadata": {
  "interpreter": {
   "hash": "2be5faf79681da6f2a61fdfdd5405d65d042280f7fba6178067603e3a2925119"
  },
  "kernelspec": {
   "display_name": "Python 3.10.1 64-bit",
   "language": "python",
   "name": "python3"
  },
  "language_info": {
   "codemirror_mode": {
    "name": "ipython",
    "version": 3
   },
   "file_extension": ".py",
   "mimetype": "text/x-python",
   "name": "python",
   "nbconvert_exporter": "python",
   "pygments_lexer": "ipython3",
   "version": "3.10.1"
  },
  "orig_nbformat": 4
 },
 "nbformat": 4,
 "nbformat_minor": 2
}
